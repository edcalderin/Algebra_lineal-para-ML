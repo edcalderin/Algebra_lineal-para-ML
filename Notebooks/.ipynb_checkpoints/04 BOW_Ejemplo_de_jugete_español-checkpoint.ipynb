{
 "cells": [
  {
   "cell_type": "markdown",
   "metadata": {
    "colab_type": "text",
    "id": "view-in-github"
   },
   "source": [
    "<a href=\"https://colab.research.google.com/github/AnIsAsPe/Algebra_lineal-para-ML/blob/main/BOW_Ejemplo_de_jugete_espa%C3%B1ol.ipynb\" target=\"_parent\"><img src=\"https://colab.research.google.com/assets/colab-badge.svg\" alt=\"Open In Colab\"/></a>"
   ]
  },
  {
   "cell_type": "code",
   "execution_count": 1,
   "metadata": {
    "ExecuteTime": {
     "end_time": "2020-12-08T15:19:45.971800Z",
     "start_time": "2020-12-08T15:19:42.936117Z"
    },
    "colab": {
     "base_uri": "https://localhost:8080/"
    },
    "id": "6u9i3FS6Mikx",
    "outputId": "0ff44e68-e1c4-493d-9eeb-ba32ffbcb9d6"
   },
   "outputs": [
    {
     "name": "stderr",
     "output_type": "stream",
     "text": [
      "[nltk_data] Downloading package stopwords to\n",
      "[nltk_data]     C:\\Users\\Erick\\AppData\\Roaming\\nltk_data...\n",
      "[nltk_data]   Package stopwords is already up-to-date!\n"
     ]
    }
   ],
   "source": [
    "import pandas as pd\n",
    "\n",
    "#preprocesar texto\n",
    "import nltk\n",
    "from nltk.corpus import stopwords\n",
    "import re\n",
    "\n",
    "nltk.download('stopwords')\n",
    "\n",
    "#construccion de bolsa de palabras\n",
    "\n",
    "from sklearn.feature_extraction.text import CountVectorizer, TfidfVectorizer  "
   ]
  },
  {
   "cell_type": "markdown",
   "metadata": {
    "id": "Mv1HlsAaMX1J"
   },
   "source": [
    "## Creación de Corpus"
   ]
  },
  {
   "cell_type": "code",
   "execution_count": 19,
   "metadata": {
    "ExecuteTime": {
     "end_time": "2020-12-08T15:25:54.007665Z",
     "start_time": "2020-12-08T15:25:53.996705Z"
    },
    "colab": {
     "base_uri": "https://localhost:8080/",
     "height": 212
    },
    "id": "2rec_Mz6nRK7",
    "outputId": "364c5067-898c-452c-f80e-ff6fcc90eecf"
   },
   "outputs": [
    {
     "name": "stdout",
     "output_type": "stream",
     "text": [
      "(5, 1)\n"
     ]
    },
    {
     "data": {
      "text/html": [
       "<div>\n",
       "<style scoped>\n",
       "    .dataframe tbody tr th:only-of-type {\n",
       "        vertical-align: middle;\n",
       "    }\n",
       "\n",
       "    .dataframe tbody tr th {\n",
       "        vertical-align: top;\n",
       "    }\n",
       "\n",
       "    .dataframe thead th {\n",
       "        text-align: right;\n",
       "    }\n",
       "</style>\n",
       "<table border=\"1\" class=\"dataframe\">\n",
       "  <thead>\n",
       "    <tr style=\"text-align: right;\">\n",
       "      <th></th>\n",
       "      <th>documento</th>\n",
       "    </tr>\n",
       "  </thead>\n",
       "  <tbody>\n",
       "    <tr>\n",
       "      <th>0</th>\n",
       "      <td>El sol sale para todos y todos los días sale e...</td>\n",
       "    </tr>\n",
       "    <tr>\n",
       "      <th>1</th>\n",
       "      <td>Estoy en la vereda del sol</td>\n",
       "    </tr>\n",
       "    <tr>\n",
       "      <th>2</th>\n",
       "      <td>Todos ven el sol salir</td>\n",
       "    </tr>\n",
       "    <tr>\n",
       "      <th>3</th>\n",
       "      <td>La vereda sale cara</td>\n",
       "    </tr>\n",
       "    <tr>\n",
       "      <th>4</th>\n",
       "      <td>De cara al sol</td>\n",
       "    </tr>\n",
       "  </tbody>\n",
       "</table>\n",
       "</div>"
      ],
      "text/plain": [
       "                                           documento\n",
       "0  El sol sale para todos y todos los días sale e...\n",
       "1                         Estoy en la vereda del sol\n",
       "2                             Todos ven el sol salir\n",
       "3                                La vereda sale cara\n",
       "4                                     De cara al sol"
      ]
     },
     "execution_count": 19,
     "metadata": {},
     "output_type": "execute_result"
    }
   ],
   "source": [
    "doc = {}\n",
    "doc[0] = 'El sol sale para todos y todos los días sale el sol'\n",
    "doc[1] = 'Estoy en la vereda del sol'\n",
    "doc[2] = 'Todos ven el sol salir'\n",
    "doc[3] = 'La vereda sale cara'\n",
    "doc[4] = 'De cara al sol'\n",
    "\n",
    "corpus = pd.DataFrame(data=doc.values(), index=doc.keys(), columns=['documento'])\n",
    "print(corpus.shape)\n",
    "corpus"
   ]
  },
  {
   "cell_type": "markdown",
   "metadata": {
    "id": "WG_-R0wEMwOO"
   },
   "source": [
    "# Preprocesar"
   ]
  },
  {
   "cell_type": "code",
   "execution_count": 65,
   "metadata": {
    "ExecuteTime": {
     "end_time": "2020-12-08T18:46:43.859823Z",
     "start_time": "2020-12-08T18:46:43.844200Z"
    },
    "id": "7k_x2WD3-iZ6"
   },
   "outputs": [],
   "source": [
    "def preprocesar(texto):\n",
    "    #convierte a minúsculas\n",
    "    texto = texto.lower()\n",
    "\n",
    "    #quitar tildes \n",
    "    import unicodedata  #para quitar tildes\n",
    "    texto =''.join((c for c in unicodedata.normalize('NFD',texto) if\n",
    "                         unicodedata.category(c) != 'Mn'))\n",
    "    #elimina stopwords\n",
    "    text = re.compile(r'\\b(' + r'|'.join(stopwords.words('spanish')) + r')\\b\\s*')\n",
    "    texto = re.sub('[^a-zA-Z!¡?¿]', ' ', texto)\n",
    "    texto = text.sub('', texto) \n",
    "\n",
    "    return texto"
   ]
  },
  {
   "cell_type": "code",
   "execution_count": 66,
   "metadata": {
    "ExecuteTime": {
     "end_time": "2020-12-08T18:46:44.266421Z",
     "start_time": "2020-12-08T18:46:44.254427Z"
    },
    "colab": {
     "base_uri": "https://localhost:8080/",
     "height": 194
    },
    "id": "SeUmSFCgwGYV",
    "outputId": "5c6089b9-3cc8-4bef-a3dc-a857ea418871"
   },
   "outputs": [
    {
     "data": {
      "text/html": [
       "<div>\n",
       "<style scoped>\n",
       "    .dataframe tbody tr th:only-of-type {\n",
       "        vertical-align: middle;\n",
       "    }\n",
       "\n",
       "    .dataframe tbody tr th {\n",
       "        vertical-align: top;\n",
       "    }\n",
       "\n",
       "    .dataframe thead th {\n",
       "        text-align: right;\n",
       "    }\n",
       "</style>\n",
       "<table border=\"1\" class=\"dataframe\">\n",
       "  <thead>\n",
       "    <tr style=\"text-align: right;\">\n",
       "      <th></th>\n",
       "      <th>documento</th>\n",
       "    </tr>\n",
       "  </thead>\n",
       "  <tbody>\n",
       "    <tr>\n",
       "      <th>0</th>\n",
       "      <td>sol sale dias sale sol</td>\n",
       "    </tr>\n",
       "    <tr>\n",
       "      <th>1</th>\n",
       "      <td>vereda sol</td>\n",
       "    </tr>\n",
       "    <tr>\n",
       "      <th>2</th>\n",
       "      <td>ven sol salir</td>\n",
       "    </tr>\n",
       "    <tr>\n",
       "      <th>3</th>\n",
       "      <td>vereda sale cara</td>\n",
       "    </tr>\n",
       "    <tr>\n",
       "      <th>4</th>\n",
       "      <td>cara sol</td>\n",
       "    </tr>\n",
       "  </tbody>\n",
       "</table>\n",
       "</div>"
      ],
      "text/plain": [
       "                documento\n",
       "0  sol sale dias sale sol\n",
       "1              vereda sol\n",
       "2           ven sol salir\n",
       "3        vereda sale cara\n",
       "4                cara sol"
      ]
     },
     "execution_count": 66,
     "metadata": {},
     "output_type": "execute_result"
    }
   ],
   "source": [
    "corpus['documento'] = corpus['documento'].apply(preprocesar)\n",
    "corpus"
   ]
  },
  {
   "cell_type": "markdown",
   "metadata": {},
   "source": [
    "## Pesos booleanos"
   ]
  },
  {
   "cell_type": "code",
   "execution_count": 69,
   "metadata": {
    "ExecuteTime": {
     "end_time": "2020-12-08T18:55:43.076939Z",
     "start_time": "2020-12-08T18:55:43.059986Z"
    },
    "colab": {
     "base_uri": "https://localhost:8080/",
     "height": 212
    },
    "id": "8TFCmMPou4y8",
    "outputId": "6700b60c-c9b2-4c2f-b606-af424686bbb4"
   },
   "outputs": [
    {
     "name": "stdout",
     "output_type": "stream",
     "text": [
      "(5, 7)\n"
     ]
    },
    {
     "data": {
      "text/html": [
       "<div>\n",
       "<style scoped>\n",
       "    .dataframe tbody tr th:only-of-type {\n",
       "        vertical-align: middle;\n",
       "    }\n",
       "\n",
       "    .dataframe tbody tr th {\n",
       "        vertical-align: top;\n",
       "    }\n",
       "\n",
       "    .dataframe thead th {\n",
       "        text-align: right;\n",
       "    }\n",
       "</style>\n",
       "<table border=\"1\" class=\"dataframe\">\n",
       "  <thead>\n",
       "    <tr style=\"text-align: right;\">\n",
       "      <th></th>\n",
       "      <th>cara</th>\n",
       "      <th>dias</th>\n",
       "      <th>sale</th>\n",
       "      <th>salir</th>\n",
       "      <th>sol</th>\n",
       "      <th>ven</th>\n",
       "      <th>vereda</th>\n",
       "    </tr>\n",
       "  </thead>\n",
       "  <tbody>\n",
       "    <tr>\n",
       "      <th>0</th>\n",
       "      <td>0</td>\n",
       "      <td>1</td>\n",
       "      <td>1</td>\n",
       "      <td>0</td>\n",
       "      <td>1</td>\n",
       "      <td>0</td>\n",
       "      <td>0</td>\n",
       "    </tr>\n",
       "    <tr>\n",
       "      <th>1</th>\n",
       "      <td>0</td>\n",
       "      <td>0</td>\n",
       "      <td>0</td>\n",
       "      <td>0</td>\n",
       "      <td>1</td>\n",
       "      <td>0</td>\n",
       "      <td>1</td>\n",
       "    </tr>\n",
       "    <tr>\n",
       "      <th>2</th>\n",
       "      <td>0</td>\n",
       "      <td>0</td>\n",
       "      <td>0</td>\n",
       "      <td>1</td>\n",
       "      <td>1</td>\n",
       "      <td>1</td>\n",
       "      <td>0</td>\n",
       "    </tr>\n",
       "    <tr>\n",
       "      <th>3</th>\n",
       "      <td>1</td>\n",
       "      <td>0</td>\n",
       "      <td>1</td>\n",
       "      <td>0</td>\n",
       "      <td>0</td>\n",
       "      <td>0</td>\n",
       "      <td>1</td>\n",
       "    </tr>\n",
       "    <tr>\n",
       "      <th>4</th>\n",
       "      <td>1</td>\n",
       "      <td>0</td>\n",
       "      <td>0</td>\n",
       "      <td>0</td>\n",
       "      <td>1</td>\n",
       "      <td>0</td>\n",
       "      <td>0</td>\n",
       "    </tr>\n",
       "  </tbody>\n",
       "</table>\n",
       "</div>"
      ],
      "text/plain": [
       "   cara  dias  sale  salir  sol  ven  vereda\n",
       "0     0     1     1      0    1    0       0\n",
       "1     0     0     0      0    1    0       1\n",
       "2     0     0     0      1    1    1       0\n",
       "3     1     0     1      0    0    0       1\n",
       "4     1     0     0      0    1    0       0"
      ]
     },
     "execution_count": 69,
     "metadata": {},
     "output_type": "execute_result"
    }
   ],
   "source": [
    "# Bolsa de palabras pesos binarios\n",
    "cv = CountVectorizer(binary=True)\n",
    "mdt_binarios = cv.fit_transform(corpus['documento']) \n",
    "\n",
    "bow_binaria = pd.DataFrame(mdt_binarios.todense(), columns=cv.get_feature_names())\n",
    "print(bow_binaria.shape)\n",
    "bow_binaria"
   ]
  },
  {
   "cell_type": "markdown",
   "metadata": {},
   "source": [
    "## Pesos frecuencia"
   ]
  },
  {
   "cell_type": "code",
   "execution_count": 71,
   "metadata": {
    "ExecuteTime": {
     "end_time": "2020-12-08T18:56:12.865013Z",
     "start_time": "2020-12-08T18:56:12.850056Z"
    },
    "colab": {
     "base_uri": "https://localhost:8080/",
     "height": 212
    },
    "id": "MXFRao2ay0al",
    "outputId": "9ab01641-8264-4cab-d53e-4f1b111dc2fc"
   },
   "outputs": [
    {
     "name": "stdout",
     "output_type": "stream",
     "text": [
      "(5, 7)\n"
     ]
    },
    {
     "data": {
      "text/html": [
       "<div>\n",
       "<style scoped>\n",
       "    .dataframe tbody tr th:only-of-type {\n",
       "        vertical-align: middle;\n",
       "    }\n",
       "\n",
       "    .dataframe tbody tr th {\n",
       "        vertical-align: top;\n",
       "    }\n",
       "\n",
       "    .dataframe thead th {\n",
       "        text-align: right;\n",
       "    }\n",
       "</style>\n",
       "<table border=\"1\" class=\"dataframe\">\n",
       "  <thead>\n",
       "    <tr style=\"text-align: right;\">\n",
       "      <th></th>\n",
       "      <th>cara</th>\n",
       "      <th>dias</th>\n",
       "      <th>sale</th>\n",
       "      <th>salir</th>\n",
       "      <th>sol</th>\n",
       "      <th>ven</th>\n",
       "      <th>vereda</th>\n",
       "    </tr>\n",
       "  </thead>\n",
       "  <tbody>\n",
       "    <tr>\n",
       "      <th>0</th>\n",
       "      <td>0</td>\n",
       "      <td>1</td>\n",
       "      <td>2</td>\n",
       "      <td>0</td>\n",
       "      <td>2</td>\n",
       "      <td>0</td>\n",
       "      <td>0</td>\n",
       "    </tr>\n",
       "    <tr>\n",
       "      <th>1</th>\n",
       "      <td>0</td>\n",
       "      <td>0</td>\n",
       "      <td>0</td>\n",
       "      <td>0</td>\n",
       "      <td>1</td>\n",
       "      <td>0</td>\n",
       "      <td>1</td>\n",
       "    </tr>\n",
       "    <tr>\n",
       "      <th>2</th>\n",
       "      <td>0</td>\n",
       "      <td>0</td>\n",
       "      <td>0</td>\n",
       "      <td>1</td>\n",
       "      <td>1</td>\n",
       "      <td>1</td>\n",
       "      <td>0</td>\n",
       "    </tr>\n",
       "    <tr>\n",
       "      <th>3</th>\n",
       "      <td>1</td>\n",
       "      <td>0</td>\n",
       "      <td>1</td>\n",
       "      <td>0</td>\n",
       "      <td>0</td>\n",
       "      <td>0</td>\n",
       "      <td>1</td>\n",
       "    </tr>\n",
       "    <tr>\n",
       "      <th>4</th>\n",
       "      <td>1</td>\n",
       "      <td>0</td>\n",
       "      <td>0</td>\n",
       "      <td>0</td>\n",
       "      <td>1</td>\n",
       "      <td>0</td>\n",
       "      <td>0</td>\n",
       "    </tr>\n",
       "  </tbody>\n",
       "</table>\n",
       "</div>"
      ],
      "text/plain": [
       "   cara  dias  sale  salir  sol  ven  vereda\n",
       "0     0     1     2      0    2    0       0\n",
       "1     0     0     0      0    1    0       1\n",
       "2     0     0     0      1    1    1       0\n",
       "3     1     0     1      0    0    0       1\n",
       "4     1     0     0      0    1    0       0"
      ]
     },
     "execution_count": 71,
     "metadata": {},
     "output_type": "execute_result"
    }
   ],
   "source": [
    "# Bolsa de palabras pesos frecuencias\n",
    "cv = CountVectorizer()\n",
    "mdt_frec = cv.fit_transform(corpus['documento']) \n",
    "palabras = cv.get_feature_names()\n",
    "\n",
    "bow_frec = pd.DataFrame(mdt_frec.todense(), columns=palabras)\n",
    "print(bow_frec.shape)\n",
    "bow_frec"
   ]
  },
  {
   "cell_type": "markdown",
   "metadata": {},
   "source": [
    "## Pesos TF-IDF"
   ]
  },
  {
   "cell_type": "code",
   "execution_count": 72,
   "metadata": {
    "ExecuteTime": {
     "end_time": "2020-12-08T18:57:06.807641Z",
     "start_time": "2020-12-08T18:57:06.779718Z"
    },
    "colab": {
     "base_uri": "https://localhost:8080/",
     "height": 212
    },
    "id": "iDGiMk2bzyaN",
    "outputId": "f9af30f2-4388-4aad-a654-a3dba2d23d17"
   },
   "outputs": [
    {
     "name": "stdout",
     "output_type": "stream",
     "text": [
      "(5, 7)\n"
     ]
    },
    {
     "data": {
      "text/html": [
       "<div>\n",
       "<style scoped>\n",
       "    .dataframe tbody tr th:only-of-type {\n",
       "        vertical-align: middle;\n",
       "    }\n",
       "\n",
       "    .dataframe tbody tr th {\n",
       "        vertical-align: top;\n",
       "    }\n",
       "\n",
       "    .dataframe thead th {\n",
       "        text-align: right;\n",
       "    }\n",
       "</style>\n",
       "<table border=\"1\" class=\"dataframe\">\n",
       "  <thead>\n",
       "    <tr style=\"text-align: right;\">\n",
       "      <th></th>\n",
       "      <th>cara</th>\n",
       "      <th>dias</th>\n",
       "      <th>sale</th>\n",
       "      <th>salir</th>\n",
       "      <th>sol</th>\n",
       "      <th>ven</th>\n",
       "      <th>vereda</th>\n",
       "    </tr>\n",
       "  </thead>\n",
       "  <tbody>\n",
       "    <tr>\n",
       "      <th>0</th>\n",
       "      <td>0.000000</td>\n",
       "      <td>0.452991</td>\n",
       "      <td>0.730941</td>\n",
       "      <td>0.0000</td>\n",
       "      <td>0.510415</td>\n",
       "      <td>0.0000</td>\n",
       "      <td>0.000000</td>\n",
       "    </tr>\n",
       "    <tr>\n",
       "      <th>1</th>\n",
       "      <td>0.000000</td>\n",
       "      <td>0.000000</td>\n",
       "      <td>0.000000</td>\n",
       "      <td>0.0000</td>\n",
       "      <td>0.572526</td>\n",
       "      <td>0.0000</td>\n",
       "      <td>0.819887</td>\n",
       "    </tr>\n",
       "    <tr>\n",
       "      <th>2</th>\n",
       "      <td>0.000000</td>\n",
       "      <td>0.000000</td>\n",
       "      <td>0.000000</td>\n",
       "      <td>0.6569</td>\n",
       "      <td>0.370086</td>\n",
       "      <td>0.6569</td>\n",
       "      <td>0.000000</td>\n",
       "    </tr>\n",
       "    <tr>\n",
       "      <th>3</th>\n",
       "      <td>0.577350</td>\n",
       "      <td>0.000000</td>\n",
       "      <td>0.577350</td>\n",
       "      <td>0.0000</td>\n",
       "      <td>0.000000</td>\n",
       "      <td>0.0000</td>\n",
       "      <td>0.577350</td>\n",
       "    </tr>\n",
       "    <tr>\n",
       "      <th>4</th>\n",
       "      <td>0.819887</td>\n",
       "      <td>0.000000</td>\n",
       "      <td>0.000000</td>\n",
       "      <td>0.0000</td>\n",
       "      <td>0.572526</td>\n",
       "      <td>0.0000</td>\n",
       "      <td>0.000000</td>\n",
       "    </tr>\n",
       "  </tbody>\n",
       "</table>\n",
       "</div>"
      ],
      "text/plain": [
       "       cara      dias      sale   salir       sol     ven    vereda\n",
       "0  0.000000  0.452991  0.730941  0.0000  0.510415  0.0000  0.000000\n",
       "1  0.000000  0.000000  0.000000  0.0000  0.572526  0.0000  0.819887\n",
       "2  0.000000  0.000000  0.000000  0.6569  0.370086  0.6569  0.000000\n",
       "3  0.577350  0.000000  0.577350  0.0000  0.000000  0.0000  0.577350\n",
       "4  0.819887  0.000000  0.000000  0.0000  0.572526  0.0000  0.000000"
      ]
     },
     "execution_count": 72,
     "metadata": {},
     "output_type": "execute_result"
    }
   ],
   "source": [
    "# Bolsa de palabras pesos TF-IDF\n",
    "cv = TfidfVectorizer()\n",
    "mdt_tfidf = cv.fit_transform(corpus['documento']) \n",
    "palabras = cv.get_feature_names()\n",
    "\n",
    "bow_tfidf = pd.DataFrame(mdt_tfidf.todense(), columns=palabras)\n",
    "print(bow_tfidf.shape)\n",
    "bow_tfidf"
   ]
  },
  {
   "cell_type": "code",
   "execution_count": null,
   "metadata": {},
   "outputs": [],
   "source": []
  }
 ],
 "metadata": {
  "colab": {
   "authorship_tag": "ABX9TyPo12unCJFI22ffURmTTGTo",
   "include_colab_link": true,
   "name": "BOW Ejemplo de jugete_español.ipynb",
   "provenance": [],
   "toc_visible": true
  },
  "kernelspec": {
   "display_name": "Python 3",
   "language": "python",
   "name": "python3"
  },
  "language_info": {
   "codemirror_mode": {
    "name": "ipython",
    "version": 3
   },
   "file_extension": ".py",
   "mimetype": "text/x-python",
   "name": "python",
   "nbconvert_exporter": "python",
   "pygments_lexer": "ipython3",
   "version": "3.7.6"
  },
  "toc": {
   "base_numbering": 1,
   "nav_menu": {},
   "number_sections": true,
   "sideBar": true,
   "skip_h1_title": false,
   "title_cell": "Table of Contents",
   "title_sidebar": "Contents",
   "toc_cell": false,
   "toc_position": {},
   "toc_section_display": true,
   "toc_window_display": true
  }
 },
 "nbformat": 4,
 "nbformat_minor": 1
}
