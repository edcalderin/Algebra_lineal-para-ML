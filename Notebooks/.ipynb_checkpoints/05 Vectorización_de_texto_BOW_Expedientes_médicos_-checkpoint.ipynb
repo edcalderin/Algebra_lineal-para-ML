{
 "cells": [
  {
   "cell_type": "markdown",
   "metadata": {
    "colab_type": "text",
    "id": "view-in-github"
   },
   "source": [
    "<a href=\"https://colab.research.google.com/github/AnIsAsPe/Algebra_lineal-para-ML/blob/main/Vectorizaci%C3%B3n_de_texto_BOW_Expedientes_m%C3%A9dicos_.ipynb\" target=\"_parent\"><img src=\"https://colab.research.google.com/assets/colab-badge.svg\" alt=\"Open In Colab\"/></a>"
   ]
  },
  {
   "cell_type": "markdown",
   "metadata": {
    "id": "OJofLsOdsCI0"
   },
   "source": [
    "# Importar bibliotecas"
   ]
  },
  {
   "cell_type": "code",
   "execution_count": 1,
   "metadata": {
    "ExecuteTime": {
     "end_time": "2020-12-09T03:35:38.206580Z",
     "start_time": "2020-12-09T03:35:36.748436Z"
    },
    "colab": {
     "base_uri": "https://localhost:8080/"
    },
    "id": "nXKOejTBvV-t",
    "outputId": "d5931af2-e0bc-406b-f0ed-b0baa08d635f"
   },
   "outputs": [],
   "source": [
    "import pandas as pd\n",
    "import numpy as np\n",
    "import matplotlib.pyplot as plt\n",
    "import seaborn as sns\n",
    "sns.set()\n",
    "\n",
    "#preprocesar texto\n",
    "import nltk\n",
    "from nltk.corpus import stopwords\n",
    "from nltk.stem import WordNetLemmatizer, PorterStemmer\n",
    "import re\n",
    "\n",
    "#construccion de bolsa de palabras\n",
    "from sklearn.feature_extraction.text import CountVectorizer, TfidfVectorizer \n",
    "import itertools"
   ]
  },
  {
   "cell_type": "code",
   "execution_count": 2,
   "metadata": {
    "ExecuteTime": {
     "end_time": "2020-12-09T03:35:38.487881Z",
     "start_time": "2020-12-09T03:35:38.208562Z"
    }
   },
   "outputs": [
    {
     "name": "stderr",
     "output_type": "stream",
     "text": [
      "[nltk_data] Downloading package stopwords to\n",
      "[nltk_data]     C:\\Users\\Erick\\AppData\\Roaming\\nltk_data...\n",
      "[nltk_data]   Package stopwords is already up-to-date!\n",
      "[nltk_data] Downloading package wordnet to\n",
      "[nltk_data]     C:\\Users\\Erick\\AppData\\Roaming\\nltk_data...\n",
      "[nltk_data]   Package wordnet is already up-to-date!\n"
     ]
    },
    {
     "data": {
      "text/plain": [
       "True"
      ]
     },
     "execution_count": 2,
     "metadata": {},
     "output_type": "execute_result"
    }
   ],
   "source": [
    "nltk.download('stopwords')\n",
    "nltk.download('wordnet')  #WordNetLemmatizer"
   ]
  },
  {
   "cell_type": "markdown",
   "metadata": {
    "id": "Ll2bfLPwg_As"
   },
   "source": [
    "## Funciones"
   ]
  },
  {
   "cell_type": "markdown",
   "metadata": {
    "id": "R9gcqOEK5Tz2"
   },
   "source": [
    "#### elimina_stopwords()"
   ]
  },
  {
   "cell_type": "code",
   "execution_count": 3,
   "metadata": {
    "ExecuteTime": {
     "end_time": "2020-12-09T03:35:42.258866Z",
     "start_time": "2020-12-09T03:35:42.254876Z"
    },
    "id": "h2oSh9rG5UAG"
   },
   "outputs": [],
   "source": [
    "def elimina_stopwords(texto):\n",
    "    stop = re.compile(r'\\b(' + r'|'.join(stopwords.words('english')) + r')\\b\\s*')\n",
    "    nuevo_texto = stop.sub('', texto) \n",
    "    return nuevo_texto"
   ]
  },
  {
   "cell_type": "markdown",
   "metadata": {
    "id": "zJtH14qHRpfN"
   },
   "source": [
    "### elimina_puntuacion()"
   ]
  },
  {
   "cell_type": "code",
   "execution_count": 4,
   "metadata": {
    "ExecuteTime": {
     "end_time": "2020-12-09T03:35:42.664078Z",
     "start_time": "2020-12-09T03:35:42.660062Z"
    },
    "id": "C7d8p7LSRpmB"
   },
   "outputs": [],
   "source": [
    "def elimina_puntuacion(texto):\n",
    "    nuevo_texto = re.sub('[^A-ZÜÖÄa-z0-9]+', ' ', texto)  #puntuación y todo lo que no sea letra ni números\n",
    "    nuevo_texto = re.sub(\" \\d+\", \" \", nuevo_texto)   # elimina números\n",
    "    return nuevo_texto"
   ]
  },
  {
   "cell_type": "markdown",
   "metadata": {
    "id": "mHypc2nPEzvS"
   },
   "source": [
    "#### lematizar_ingles()"
   ]
  },
  {
   "cell_type": "code",
   "execution_count": 5,
   "metadata": {
    "ExecuteTime": {
     "end_time": "2020-12-09T03:35:43.525287Z",
     "start_time": "2020-12-09T03:35:43.520301Z"
    },
    "id": "fa0Srj3VEz5c"
   },
   "outputs": [],
   "source": [
    "lemmatizer = WordNetLemmatizer()\n",
    "\n",
    "def lematizar(texto):\n",
    "    texto = texto.split()\n",
    "    nuevo_texto = \" \".join([lemmatizer.lemmatize(i) for i in texto])\n",
    "    return nuevo_texto"
   ]
  },
  {
   "cell_type": "markdown",
   "metadata": {
    "id": "4OrHhLR6E8eq"
   },
   "source": [
    "#### stemmer_inglés()"
   ]
  },
  {
   "cell_type": "code",
   "execution_count": 6,
   "metadata": {
    "ExecuteTime": {
     "end_time": "2020-12-09T03:35:44.085070Z",
     "start_time": "2020-12-09T03:35:44.080087Z"
    },
    "id": "lZGlyjk2E8ot"
   },
   "outputs": [],
   "source": [
    "st = PorterStemmer()\n",
    "\n",
    "def stemmer(texto):\n",
    "    texto=texto.split()\n",
    "    nuevo_texto =\" \".join([st.stem(i) for i in texto])\n",
    "    return nuevo_texto"
   ]
  },
  {
   "cell_type": "markdown",
   "metadata": {
    "id": "R_d912qROTu8"
   },
   "source": [
    "#### preprocesar(texto)\n"
   ]
  },
  {
   "cell_type": "code",
   "execution_count": 7,
   "metadata": {
    "ExecuteTime": {
     "end_time": "2020-12-09T03:35:44.638133Z",
     "start_time": "2020-12-09T03:35:44.633147Z"
    },
    "id": "AJYwX4CPOT4P"
   },
   "outputs": [],
   "source": [
    "def preprocesar(texto):\n",
    "    texto = texto.lower()\n",
    "    texto = elimina_stopwords(texto)\n",
    "    texto = elimina_puntuacion(texto)\n",
    "    texto = stemmer(texto)\n",
    "    return(texto)"
   ]
  },
  {
   "cell_type": "markdown",
   "metadata": {
    "id": "gbqBJWu6_9dq"
   },
   "source": [
    "# Lectura de datos \n",
    "[OHSUMED dataset](https://www.mat.unical.it/OlexSuite/Datasets/SampleDataSets-about.htm)\n",
    "\n",
    "\n"
   ]
  },
  {
   "cell_type": "code",
   "execution_count": 8,
   "metadata": {
    "ExecuteTime": {
     "end_time": "2020-12-09T03:35:48.358500Z",
     "start_time": "2020-12-09T03:35:45.132307Z"
    },
    "colab": {
     "base_uri": "https://localhost:8080/",
     "height": 215
    },
    "id": "Ngsq2HW3JYVW",
    "outputId": "1fb45382-e165-44d7-afdf-c2fcb0576213"
   },
   "outputs": [
    {
     "name": "stdout",
     "output_type": "stream",
     "text": [
      "(13924, 1)\n"
     ]
    },
    {
     "data": {
      "text/html": [
       "<div>\n",
       "<style scoped>\n",
       "    .dataframe tbody tr th:only-of-type {\n",
       "        vertical-align: middle;\n",
       "    }\n",
       "\n",
       "    .dataframe tbody tr th {\n",
       "        vertical-align: top;\n",
       "    }\n",
       "\n",
       "    .dataframe thead th {\n",
       "        text-align: right;\n",
       "    }\n",
       "</style>\n",
       "<table border=\"1\" class=\"dataframe\">\n",
       "  <thead>\n",
       "    <tr style=\"text-align: right;\">\n",
       "      <th></th>\n",
       "      <th>doc</th>\n",
       "    </tr>\n",
       "  </thead>\n",
       "  <tbody>\n",
       "    <tr>\n",
       "      <th>0</th>\n",
       "      <td>Improved outcome at 28 days of age for very l...</td>\n",
       "    </tr>\n",
       "    <tr>\n",
       "      <th>1</th>\n",
       "      <td>Chylothorax after posterior spinal instrument...</td>\n",
       "    </tr>\n",
       "    <tr>\n",
       "      <th>2</th>\n",
       "      <td>Childhood pulmonary function following hyalin...</td>\n",
       "    </tr>\n",
       "    <tr>\n",
       "      <th>3</th>\n",
       "      <td>Treatment of atelectasis of upper lung lobes....</td>\n",
       "    </tr>\n",
       "    <tr>\n",
       "      <th>4</th>\n",
       "      <td>Decision analysis, public health policy, and ...</td>\n",
       "    </tr>\n",
       "  </tbody>\n",
       "</table>\n",
       "</div>"
      ],
      "text/plain": [
       "                                                 doc\n",
       "0   Improved outcome at 28 days of age for very l...\n",
       "1   Chylothorax after posterior spinal instrument...\n",
       "2   Childhood pulmonary function following hyalin...\n",
       "3   Treatment of atelectasis of upper lung lobes....\n",
       "4   Decision analysis, public health policy, and ..."
      ]
     },
     "execution_count": 8,
     "metadata": {},
     "output_type": "execute_result"
    }
   ],
   "source": [
    "corpus = pd.read_csv('https://raw.githubusercontent.com/danieljfeller/medline-multilabel/master/data/processed/ohsumed_abstracts.csv', usecols=['doc'])\n",
    "print(corpus.shape)\n",
    "corpus.head()"
   ]
  },
  {
   "cell_type": "code",
   "execution_count": 9,
   "metadata": {
    "ExecuteTime": {
     "end_time": "2020-12-09T03:35:48.366476Z",
     "start_time": "2020-12-09T03:35:48.360464Z"
    },
    "colab": {
     "base_uri": "https://localhost:8080/",
     "height": 177
    },
    "id": "_0gF4PanN61o",
    "outputId": "f4a53486-c698-439a-9581-77583a19ace0"
   },
   "outputs": [
    {
     "name": "stdout",
     "output_type": "stream",
     "text": [
      "1551\n"
     ]
    },
    {
     "data": {
      "text/plain": [
       "\" Respiratory health effects of the indoor environment in a population of Dutch children, The effect of indoor exposure to nitrogen dioxide on respiratory health was studied over a period of 2 yr in a population of nonsmoking Dutch children 6 to 12 yr of age. Lung function was measured at the schools. and information on respiratory symptoms was collected from a self-administered questionnaire completed by the parents of the children. Nitrogen dioxide was measured in the homes of all children with Palmes' diffusion tubes. In addition. information on smoking and dampness in the home was collected by questionnaire. There was no relationship between exposure to nitrogen dioxide in the home and respiratory symptoms. Respiratory symptoms were found to be associated with exposure to tobacco smoke and home dampness. There was a weak. negative association between maximal midexpiratory flow (MMEF) and exposure to nitrogen dioxide. FEV1. peak expiratory flow. and MMEF were all negatively associated with exposure to tobacco smoke. Home dampness was not associated with pulmonary function. Lung function growth. measured over a period of 2 yr. was not consistently associated with any of the indoor exposure variables. The development of respiratory symptoms over time was not associated with indoor exposure to nitrogen dioxide. There was a significant association between exposure to environmental tobacco smoke in the home and the development of wheeze. There was also a significant association between home dampness and the development of cough.\""
      ]
     },
     "execution_count": 9,
     "metadata": {},
     "output_type": "execute_result"
    }
   ],
   "source": [
    "ejemplo = corpus['doc'][10]\n",
    "print(len(ejemplo))\n",
    "ejemplo"
   ]
  },
  {
   "cell_type": "markdown",
   "metadata": {
    "id": "Z2pI7oH5tAH9"
   },
   "source": [
    "# Preprocesamiento de texto"
   ]
  },
  {
   "cell_type": "markdown",
   "metadata": {
    "id": "CYZO4qz9tDdD"
   },
   "source": [
    "#### Transformar texto a minúsculas"
   ]
  },
  {
   "cell_type": "code",
   "execution_count": 10,
   "metadata": {
    "ExecuteTime": {
     "end_time": "2020-12-09T03:35:49.141564Z",
     "start_time": "2020-12-09T03:35:49.131591Z"
    },
    "colab": {
     "base_uri": "https://localhost:8080/",
     "height": 0
    },
    "id": "l9_may3QtHpT",
    "outputId": "48e58725-46ae-484f-d431-5a7baed0e83d"
   },
   "outputs": [
    {
     "name": "stdout",
     "output_type": "stream",
     "text": [
      "1551\n"
     ]
    },
    {
     "data": {
      "text/plain": [
       "\" respiratory health effects of the indoor environment in a population of dutch children, the effect of indoor exposure to nitrogen dioxide on respiratory health was studied over a period of 2 yr in a population of nonsmoking dutch children 6 to 12 yr of age. lung function was measured at the schools. and information on respiratory symptoms was collected from a self-administered questionnaire completed by the parents of the children. nitrogen dioxide was measured in the homes of all children with palmes' diffusion tubes. in addition. information on smoking and dampness in the home was collected by questionnaire. there was no relationship between exposure to nitrogen dioxide in the home and respiratory symptoms. respiratory symptoms were found to be associated with exposure to tobacco smoke and home dampness. there was a weak. negative association between maximal midexpiratory flow (mmef) and exposure to nitrogen dioxide. fev1. peak expiratory flow. and mmef were all negatively associated with exposure to tobacco smoke. home dampness was not associated with pulmonary function. lung function growth. measured over a period of 2 yr. was not consistently associated with any of the indoor exposure variables. the development of respiratory symptoms over time was not associated with indoor exposure to nitrogen dioxide. there was a significant association between exposure to environmental tobacco smoke in the home and the development of wheeze. there was also a significant association between home dampness and the development of cough.\""
      ]
     },
     "execution_count": 10,
     "metadata": {},
     "output_type": "execute_result"
    }
   ],
   "source": [
    "ejemplo = ejemplo.lower()\n",
    "print(len(ejemplo))\n",
    "ejemplo"
   ]
  },
  {
   "cell_type": "markdown",
   "metadata": {
    "id": "FJfeT1uwtIHT"
   },
   "source": [
    "#### Quitar puntuación"
   ]
  },
  {
   "cell_type": "code",
   "execution_count": 11,
   "metadata": {
    "ExecuteTime": {
     "end_time": "2020-12-09T03:35:49.818782Z",
     "start_time": "2020-12-09T03:35:49.812769Z"
    },
    "colab": {
     "base_uri": "https://localhost:8080/",
     "height": 177
    },
    "id": "3dYvCI1ntQWc",
    "outputId": "3643ce32-aa08-4436-8bdb-09606877a70e"
   },
   "outputs": [
    {
     "name": "stdout",
     "output_type": "stream",
     "text": [
      "1523\n"
     ]
    },
    {
     "data": {
      "text/plain": [
       "' respiratory health effects of the indoor environment in a population of dutch children the effect of indoor exposure to nitrogen dioxide on respiratory health was studied over a period of  yr in a population of nonsmoking dutch children  to  yr of age lung function was measured at the schools and information on respiratory symptoms was collected from a self administered questionnaire completed by the parents of the children nitrogen dioxide was measured in the homes of all children with palmes diffusion tubes in addition information on smoking and dampness in the home was collected by questionnaire there was no relationship between exposure to nitrogen dioxide in the home and respiratory symptoms respiratory symptoms were found to be associated with exposure to tobacco smoke and home dampness there was a weak negative association between maximal midexpiratory flow mmef and exposure to nitrogen dioxide fev1 peak expiratory flow and mmef were all negatively associated with exposure to tobacco smoke home dampness was not associated with pulmonary function lung function growth measured over a period of  yr was not consistently associated with any of the indoor exposure variables the development of respiratory symptoms over time was not associated with indoor exposure to nitrogen dioxide there was a significant association between exposure to environmental tobacco smoke in the home and the development of wheeze there was also a significant association between home dampness and the development of cough '"
      ]
     },
     "execution_count": 11,
     "metadata": {},
     "output_type": "execute_result"
    }
   ],
   "source": [
    "ejemplo = elimina_puntuacion(ejemplo)\n",
    "print(len(ejemplo))\n",
    "ejemplo"
   ]
  },
  {
   "cell_type": "markdown",
   "metadata": {
    "id": "RWpEiJcDtTHO"
   },
   "source": [
    "#### Quitar Palabras Irrelevantes (\"Stopwords\")"
   ]
  },
  {
   "cell_type": "code",
   "execution_count": 12,
   "metadata": {
    "ExecuteTime": {
     "end_time": "2020-12-09T03:35:50.457077Z",
     "start_time": "2020-12-09T03:35:50.442089Z"
    }
   },
   "outputs": [
    {
     "name": "stdout",
     "output_type": "stream",
     "text": [
      "1121\n"
     ]
    },
    {
     "data": {
      "text/plain": [
       "' respiratory health effects indoor environment population dutch children effect indoor exposure nitrogen dioxide respiratory health studied period yr population nonsmoking dutch children  yr age lung function measured schools information respiratory symptoms collected self administered questionnaire completed parents children nitrogen dioxide measured homes children palmes diffusion tubes addition information smoking dampness home collected questionnaire relationship exposure nitrogen dioxide home respiratory symptoms respiratory symptoms found associated exposure tobacco smoke home dampness weak negative association maximal midexpiratory flow mmef exposure nitrogen dioxide fev1 peak expiratory flow mmef negatively associated exposure tobacco smoke home dampness associated pulmonary function lung function growth measured period yr consistently associated indoor exposure variables development respiratory symptoms time associated indoor exposure nitrogen dioxide significant association exposure environmental tobacco smoke home development wheeze also significant association home dampness development cough '"
      ]
     },
     "execution_count": 12,
     "metadata": {},
     "output_type": "execute_result"
    }
   ],
   "source": [
    "ejemplo = elimina_stopwords(ejemplo)\n",
    "print(len(ejemplo))\n",
    "ejemplo"
   ]
  },
  {
   "cell_type": "markdown",
   "metadata": {
    "id": "FqT5lRXW585j"
   },
   "source": [
    "## Normalización\n",
    "Existen dos principales técnicas para normalizar el texto, la lematización y \"radicalización\" o stemming, que consiste en la  conversión de palabras en las raices\n",
    "\n",
    "Referencia: \n",
    "\n",
    "https://towardsdatascience.com/introduction-to-nlp-part-2-difference-between-lemmatisation-and-stemming-3789be1c55bc"
   ]
  },
  {
   "cell_type": "code",
   "execution_count": 13,
   "metadata": {
    "ExecuteTime": {
     "end_time": "2020-12-09T03:35:51.185129Z",
     "start_time": "2020-12-09T03:35:51.177153Z"
    },
    "colab": {
     "base_uri": "https://localhost:8080/",
     "height": 177
    },
    "id": "5Rt-PGKdtTmN",
    "outputId": "89a69938-304a-4a8b-fee2-4951645466cd"
   },
   "outputs": [
    {
     "name": "stdout",
     "output_type": "stream",
     "text": [
      "1121\n"
     ]
    },
    {
     "data": {
      "text/plain": [
       "' respiratory health effects indoor environment population dutch children effect indoor exposure nitrogen dioxide respiratory health studied period yr population nonsmoking dutch children  yr age lung function measured schools information respiratory symptoms collected self administered questionnaire completed parents children nitrogen dioxide measured homes children palmes diffusion tubes addition information smoking dampness home collected questionnaire relationship exposure nitrogen dioxide home respiratory symptoms respiratory symptoms found associated exposure tobacco smoke home dampness weak negative association maximal midexpiratory flow mmef exposure nitrogen dioxide fev1 peak expiratory flow mmef negatively associated exposure tobacco smoke home dampness associated pulmonary function lung function growth measured period yr consistently associated indoor exposure variables development respiratory symptoms time associated indoor exposure nitrogen dioxide significant association exposure environmental tobacco smoke home development wheeze also significant association home dampness development cough '"
      ]
     },
     "execution_count": 13,
     "metadata": {},
     "output_type": "execute_result"
    }
   ],
   "source": [
    "ejemplo = elimina_stopwords(ejemplo)\n",
    "print(len(ejemplo))\n",
    "ejemplo"
   ]
  },
  {
   "cell_type": "code",
   "execution_count": 14,
   "metadata": {
    "ExecuteTime": {
     "end_time": "2020-12-09T03:35:54.858985Z",
     "start_time": "2020-12-09T03:35:51.581118Z"
    },
    "colab": {
     "base_uri": "https://localhost:8080/",
     "height": 177
    },
    "id": "WIFwWnuQCrH2",
    "outputId": "53a0f016-1442-4ba1-c024-5ca67fc25197"
   },
   "outputs": [
    {
     "name": "stdout",
     "output_type": "stream",
     "text": [
      "1121\n"
     ]
    },
    {
     "data": {
      "text/plain": [
       "'respiratory health effect indoor environment population dutch child effect indoor exposure nitrogen dioxide respiratory health studied period yr population nonsmoking dutch child yr age lung function measured school information respiratory symptom collected self administered questionnaire completed parent child nitrogen dioxide measured home child palmes diffusion tube addition information smoking dampness home collected questionnaire relationship exposure nitrogen dioxide home respiratory symptom respiratory symptom found associated exposure tobacco smoke home dampness weak negative association maximal midexpiratory flow mmef exposure nitrogen dioxide fev1 peak expiratory flow mmef negatively associated exposure tobacco smoke home dampness associated pulmonary function lung function growth measured period yr consistently associated indoor exposure variable development respiratory symptom time associated indoor exposure nitrogen dioxide significant association exposure environmental tobacco smoke home development wheeze also significant association home dampness development cough'"
      ]
     },
     "execution_count": 14,
     "metadata": {},
     "output_type": "execute_result"
    }
   ],
   "source": [
    "ejemplo_lema = lematizar(ejemplo)\n",
    "print(len(ejemplo))\n",
    "ejemplo_lema"
   ]
  },
  {
   "cell_type": "code",
   "execution_count": 15,
   "metadata": {
    "ExecuteTime": {
     "end_time": "2020-12-09T03:35:54.882898Z",
     "start_time": "2020-12-09T03:35:54.862942Z"
    },
    "colab": {
     "base_uri": "https://localhost:8080/",
     "height": 160
    },
    "id": "vaNcLBVtFrpG",
    "outputId": "d7a600d9-d3d3-483c-a4a0-e8100e671224"
   },
   "outputs": [
    {
     "name": "stdout",
     "output_type": "stream",
     "text": [
      "1121\n"
     ]
    },
    {
     "data": {
      "text/plain": [
       "'respiratori health effect indoor environ popul dutch children effect indoor exposur nitrogen dioxid respiratori health studi period yr popul nonsmok dutch children yr age lung function measur school inform respiratori symptom collect self administ questionnair complet parent children nitrogen dioxid measur home children palm diffus tube addit inform smoke damp home collect questionnair relationship exposur nitrogen dioxid home respiratori symptom respiratori symptom found associ exposur tobacco smoke home damp weak neg associ maxim midexpiratori flow mmef exposur nitrogen dioxid fev1 peak expiratori flow mmef neg associ exposur tobacco smoke home damp associ pulmonari function lung function growth measur period yr consist associ indoor exposur variabl develop respiratori symptom time associ indoor exposur nitrogen dioxid signific associ exposur environment tobacco smoke home develop wheez also signific associ home damp develop cough'"
      ]
     },
     "execution_count": 15,
     "metadata": {},
     "output_type": "execute_result"
    }
   ],
   "source": [
    "ejemplo_stem = stemmer(ejemplo)\n",
    "print(len(ejemplo))\n",
    "ejemplo_stem"
   ]
  },
  {
   "cell_type": "markdown",
   "metadata": {
    "id": "ANZQqWl2QkCx"
   },
   "source": [
    "## Todo junto"
   ]
  },
  {
   "cell_type": "code",
   "execution_count": 16,
   "metadata": {
    "ExecuteTime": {
     "end_time": "2020-12-09T03:37:32.026487Z",
     "start_time": "2020-12-09T03:35:56.165638Z"
    },
    "colab": {
     "base_uri": "https://localhost:8080/"
    },
    "id": "ExtHv1pNQhj8",
    "outputId": "7b161131-0c8d-409d-e3e5-3af95f1a74e1"
   },
   "outputs": [
    {
     "name": "stdout",
     "output_type": "stream",
     "text": [
      "Wall time: 1min 35s\n"
     ]
    },
    {
     "data": {
      "text/plain": [
       "0    improv outcom day age low birth weight infant ...\n",
       "1    chylothorax posterior spinal instrument fusion...\n",
       "2    childhood pulmonari function follow hyalin mem...\n",
       "3    treatment atelectasi upper lung lobe select br...\n",
       "4    decis analysi public health polici isoniazid c...\n",
       "Name: doc, dtype: object"
      ]
     },
     "execution_count": 16,
     "metadata": {},
     "output_type": "execute_result"
    }
   ],
   "source": [
    "%%time\n",
    "corpus['doc'] = corpus['doc'].apply(preprocesar)\n",
    "corpus['doc'].head()"
   ]
  },
  {
   "cell_type": "code",
   "execution_count": 17,
   "metadata": {
    "ExecuteTime": {
     "end_time": "2020-12-09T03:37:35.475272Z",
     "start_time": "2020-12-09T03:37:32.030954Z"
    },
    "colab": {
     "base_uri": "https://localhost:8080/",
     "height": 444
    },
    "id": "xxo__kupoJtY",
    "outputId": "823dad55-5057-409f-90ef-d480b1521a05"
   },
   "outputs": [
    {
     "name": "stdout",
     "output_type": "stream",
     "text": [
      "(13924, 1971)\n"
     ]
    },
    {
     "data": {
      "text/html": [
       "<div>\n",
       "<style scoped>\n",
       "    .dataframe tbody tr th:only-of-type {\n",
       "        vertical-align: middle;\n",
       "    }\n",
       "\n",
       "    .dataframe tbody tr th {\n",
       "        vertical-align: top;\n",
       "    }\n",
       "\n",
       "    .dataframe thead th {\n",
       "        text-align: right;\n",
       "    }\n",
       "</style>\n",
       "<table border=\"1\" class=\"dataframe\">\n",
       "  <thead>\n",
       "    <tr style=\"text-align: right;\">\n",
       "      <th></th>\n",
       "      <th>abdomin</th>\n",
       "      <th>abil</th>\n",
       "      <th>abl</th>\n",
       "      <th>abnorm</th>\n",
       "      <th>abscess</th>\n",
       "      <th>absenc</th>\n",
       "      <th>absent</th>\n",
       "      <th>absolut</th>\n",
       "      <th>absorpt</th>\n",
       "      <th>abstract</th>\n",
       "      <th>...</th>\n",
       "      <th>would</th>\n",
       "      <th>wound</th>\n",
       "      <th>year</th>\n",
       "      <th>yet</th>\n",
       "      <th>yield</th>\n",
       "      <th>york</th>\n",
       "      <th>young</th>\n",
       "      <th>younger</th>\n",
       "      <th>yr</th>\n",
       "      <th>zone</th>\n",
       "    </tr>\n",
       "  </thead>\n",
       "  <tbody>\n",
       "    <tr>\n",
       "      <th>0</th>\n",
       "      <td>0.0</td>\n",
       "      <td>0.0</td>\n",
       "      <td>0.0</td>\n",
       "      <td>0.000000</td>\n",
       "      <td>0.0</td>\n",
       "      <td>0.0</td>\n",
       "      <td>0.0</td>\n",
       "      <td>0.0</td>\n",
       "      <td>0.0</td>\n",
       "      <td>0.0</td>\n",
       "      <td>...</td>\n",
       "      <td>0.058759</td>\n",
       "      <td>0.000000</td>\n",
       "      <td>0.000000</td>\n",
       "      <td>0.0</td>\n",
       "      <td>0.0</td>\n",
       "      <td>0.0</td>\n",
       "      <td>0.000000</td>\n",
       "      <td>0.0</td>\n",
       "      <td>0.0</td>\n",
       "      <td>0.0</td>\n",
       "    </tr>\n",
       "    <tr>\n",
       "      <th>1</th>\n",
       "      <td>0.0</td>\n",
       "      <td>0.0</td>\n",
       "      <td>0.0</td>\n",
       "      <td>0.000000</td>\n",
       "      <td>0.0</td>\n",
       "      <td>0.0</td>\n",
       "      <td>0.0</td>\n",
       "      <td>0.0</td>\n",
       "      <td>0.0</td>\n",
       "      <td>0.0</td>\n",
       "      <td>...</td>\n",
       "      <td>0.000000</td>\n",
       "      <td>0.000000</td>\n",
       "      <td>0.071734</td>\n",
       "      <td>0.0</td>\n",
       "      <td>0.0</td>\n",
       "      <td>0.0</td>\n",
       "      <td>0.000000</td>\n",
       "      <td>0.0</td>\n",
       "      <td>0.0</td>\n",
       "      <td>0.0</td>\n",
       "    </tr>\n",
       "    <tr>\n",
       "      <th>2</th>\n",
       "      <td>0.0</td>\n",
       "      <td>0.0</td>\n",
       "      <td>0.0</td>\n",
       "      <td>0.153178</td>\n",
       "      <td>0.0</td>\n",
       "      <td>0.0</td>\n",
       "      <td>0.0</td>\n",
       "      <td>0.0</td>\n",
       "      <td>0.0</td>\n",
       "      <td>0.0</td>\n",
       "      <td>...</td>\n",
       "      <td>0.000000</td>\n",
       "      <td>0.000000</td>\n",
       "      <td>0.000000</td>\n",
       "      <td>0.0</td>\n",
       "      <td>0.0</td>\n",
       "      <td>0.0</td>\n",
       "      <td>0.000000</td>\n",
       "      <td>0.0</td>\n",
       "      <td>0.0</td>\n",
       "      <td>0.0</td>\n",
       "    </tr>\n",
       "    <tr>\n",
       "      <th>3</th>\n",
       "      <td>0.0</td>\n",
       "      <td>0.0</td>\n",
       "      <td>0.0</td>\n",
       "      <td>0.000000</td>\n",
       "      <td>0.0</td>\n",
       "      <td>0.0</td>\n",
       "      <td>0.0</td>\n",
       "      <td>0.0</td>\n",
       "      <td>0.0</td>\n",
       "      <td>0.0</td>\n",
       "      <td>...</td>\n",
       "      <td>0.000000</td>\n",
       "      <td>0.000000</td>\n",
       "      <td>0.000000</td>\n",
       "      <td>0.0</td>\n",
       "      <td>0.0</td>\n",
       "      <td>0.0</td>\n",
       "      <td>0.000000</td>\n",
       "      <td>0.0</td>\n",
       "      <td>0.0</td>\n",
       "      <td>0.0</td>\n",
       "    </tr>\n",
       "    <tr>\n",
       "      <th>4</th>\n",
       "      <td>0.0</td>\n",
       "      <td>0.0</td>\n",
       "      <td>0.0</td>\n",
       "      <td>0.000000</td>\n",
       "      <td>0.0</td>\n",
       "      <td>0.0</td>\n",
       "      <td>0.0</td>\n",
       "      <td>0.0</td>\n",
       "      <td>0.0</td>\n",
       "      <td>0.0</td>\n",
       "      <td>...</td>\n",
       "      <td>0.000000</td>\n",
       "      <td>0.000000</td>\n",
       "      <td>0.046891</td>\n",
       "      <td>0.0</td>\n",
       "      <td>0.0</td>\n",
       "      <td>0.0</td>\n",
       "      <td>0.090192</td>\n",
       "      <td>0.0</td>\n",
       "      <td>0.0</td>\n",
       "      <td>0.0</td>\n",
       "    </tr>\n",
       "    <tr>\n",
       "      <th>...</th>\n",
       "      <td>...</td>\n",
       "      <td>...</td>\n",
       "      <td>...</td>\n",
       "      <td>...</td>\n",
       "      <td>...</td>\n",
       "      <td>...</td>\n",
       "      <td>...</td>\n",
       "      <td>...</td>\n",
       "      <td>...</td>\n",
       "      <td>...</td>\n",
       "      <td>...</td>\n",
       "      <td>...</td>\n",
       "      <td>...</td>\n",
       "      <td>...</td>\n",
       "      <td>...</td>\n",
       "      <td>...</td>\n",
       "      <td>...</td>\n",
       "      <td>...</td>\n",
       "      <td>...</td>\n",
       "      <td>...</td>\n",
       "      <td>...</td>\n",
       "    </tr>\n",
       "    <tr>\n",
       "      <th>13919</th>\n",
       "      <td>0.0</td>\n",
       "      <td>0.0</td>\n",
       "      <td>0.0</td>\n",
       "      <td>0.000000</td>\n",
       "      <td>0.0</td>\n",
       "      <td>0.0</td>\n",
       "      <td>0.0</td>\n",
       "      <td>0.0</td>\n",
       "      <td>0.0</td>\n",
       "      <td>0.0</td>\n",
       "      <td>...</td>\n",
       "      <td>0.000000</td>\n",
       "      <td>0.000000</td>\n",
       "      <td>0.000000</td>\n",
       "      <td>0.0</td>\n",
       "      <td>0.0</td>\n",
       "      <td>0.0</td>\n",
       "      <td>0.000000</td>\n",
       "      <td>0.0</td>\n",
       "      <td>0.0</td>\n",
       "      <td>0.0</td>\n",
       "    </tr>\n",
       "    <tr>\n",
       "      <th>13920</th>\n",
       "      <td>0.0</td>\n",
       "      <td>0.0</td>\n",
       "      <td>0.0</td>\n",
       "      <td>0.000000</td>\n",
       "      <td>0.0</td>\n",
       "      <td>0.0</td>\n",
       "      <td>0.0</td>\n",
       "      <td>0.0</td>\n",
       "      <td>0.0</td>\n",
       "      <td>0.0</td>\n",
       "      <td>...</td>\n",
       "      <td>0.000000</td>\n",
       "      <td>0.000000</td>\n",
       "      <td>0.000000</td>\n",
       "      <td>0.0</td>\n",
       "      <td>0.0</td>\n",
       "      <td>0.0</td>\n",
       "      <td>0.000000</td>\n",
       "      <td>0.0</td>\n",
       "      <td>0.0</td>\n",
       "      <td>0.0</td>\n",
       "    </tr>\n",
       "    <tr>\n",
       "      <th>13921</th>\n",
       "      <td>0.0</td>\n",
       "      <td>0.0</td>\n",
       "      <td>0.0</td>\n",
       "      <td>0.000000</td>\n",
       "      <td>0.0</td>\n",
       "      <td>0.0</td>\n",
       "      <td>0.0</td>\n",
       "      <td>0.0</td>\n",
       "      <td>0.0</td>\n",
       "      <td>0.0</td>\n",
       "      <td>...</td>\n",
       "      <td>0.000000</td>\n",
       "      <td>0.097269</td>\n",
       "      <td>0.000000</td>\n",
       "      <td>0.0</td>\n",
       "      <td>0.0</td>\n",
       "      <td>0.0</td>\n",
       "      <td>0.000000</td>\n",
       "      <td>0.0</td>\n",
       "      <td>0.0</td>\n",
       "      <td>0.0</td>\n",
       "    </tr>\n",
       "    <tr>\n",
       "      <th>13922</th>\n",
       "      <td>0.0</td>\n",
       "      <td>0.0</td>\n",
       "      <td>0.0</td>\n",
       "      <td>0.000000</td>\n",
       "      <td>0.0</td>\n",
       "      <td>0.0</td>\n",
       "      <td>0.0</td>\n",
       "      <td>0.0</td>\n",
       "      <td>0.0</td>\n",
       "      <td>0.0</td>\n",
       "      <td>...</td>\n",
       "      <td>0.000000</td>\n",
       "      <td>0.000000</td>\n",
       "      <td>0.000000</td>\n",
       "      <td>0.0</td>\n",
       "      <td>0.0</td>\n",
       "      <td>0.0</td>\n",
       "      <td>0.000000</td>\n",
       "      <td>0.0</td>\n",
       "      <td>0.0</td>\n",
       "      <td>0.0</td>\n",
       "    </tr>\n",
       "    <tr>\n",
       "      <th>13923</th>\n",
       "      <td>0.0</td>\n",
       "      <td>0.0</td>\n",
       "      <td>0.0</td>\n",
       "      <td>0.000000</td>\n",
       "      <td>0.0</td>\n",
       "      <td>0.0</td>\n",
       "      <td>0.0</td>\n",
       "      <td>0.0</td>\n",
       "      <td>0.0</td>\n",
       "      <td>0.0</td>\n",
       "      <td>...</td>\n",
       "      <td>0.000000</td>\n",
       "      <td>0.000000</td>\n",
       "      <td>0.000000</td>\n",
       "      <td>0.0</td>\n",
       "      <td>0.0</td>\n",
       "      <td>0.0</td>\n",
       "      <td>0.000000</td>\n",
       "      <td>0.0</td>\n",
       "      <td>0.0</td>\n",
       "      <td>0.0</td>\n",
       "    </tr>\n",
       "  </tbody>\n",
       "</table>\n",
       "<p>13924 rows × 1971 columns</p>\n",
       "</div>"
      ],
      "text/plain": [
       "       abdomin  abil  abl    abnorm  abscess  absenc  absent  absolut  \\\n",
       "0          0.0   0.0  0.0  0.000000      0.0     0.0     0.0      0.0   \n",
       "1          0.0   0.0  0.0  0.000000      0.0     0.0     0.0      0.0   \n",
       "2          0.0   0.0  0.0  0.153178      0.0     0.0     0.0      0.0   \n",
       "3          0.0   0.0  0.0  0.000000      0.0     0.0     0.0      0.0   \n",
       "4          0.0   0.0  0.0  0.000000      0.0     0.0     0.0      0.0   \n",
       "...        ...   ...  ...       ...      ...     ...     ...      ...   \n",
       "13919      0.0   0.0  0.0  0.000000      0.0     0.0     0.0      0.0   \n",
       "13920      0.0   0.0  0.0  0.000000      0.0     0.0     0.0      0.0   \n",
       "13921      0.0   0.0  0.0  0.000000      0.0     0.0     0.0      0.0   \n",
       "13922      0.0   0.0  0.0  0.000000      0.0     0.0     0.0      0.0   \n",
       "13923      0.0   0.0  0.0  0.000000      0.0     0.0     0.0      0.0   \n",
       "\n",
       "       absorpt  abstract  ...     would     wound      year  yet  yield  york  \\\n",
       "0          0.0       0.0  ...  0.058759  0.000000  0.000000  0.0    0.0   0.0   \n",
       "1          0.0       0.0  ...  0.000000  0.000000  0.071734  0.0    0.0   0.0   \n",
       "2          0.0       0.0  ...  0.000000  0.000000  0.000000  0.0    0.0   0.0   \n",
       "3          0.0       0.0  ...  0.000000  0.000000  0.000000  0.0    0.0   0.0   \n",
       "4          0.0       0.0  ...  0.000000  0.000000  0.046891  0.0    0.0   0.0   \n",
       "...        ...       ...  ...       ...       ...       ...  ...    ...   ...   \n",
       "13919      0.0       0.0  ...  0.000000  0.000000  0.000000  0.0    0.0   0.0   \n",
       "13920      0.0       0.0  ...  0.000000  0.000000  0.000000  0.0    0.0   0.0   \n",
       "13921      0.0       0.0  ...  0.000000  0.097269  0.000000  0.0    0.0   0.0   \n",
       "13922      0.0       0.0  ...  0.000000  0.000000  0.000000  0.0    0.0   0.0   \n",
       "13923      0.0       0.0  ...  0.000000  0.000000  0.000000  0.0    0.0   0.0   \n",
       "\n",
       "          young  younger   yr  zone  \n",
       "0      0.000000      0.0  0.0   0.0  \n",
       "1      0.000000      0.0  0.0   0.0  \n",
       "2      0.000000      0.0  0.0   0.0  \n",
       "3      0.000000      0.0  0.0   0.0  \n",
       "4      0.090192      0.0  0.0   0.0  \n",
       "...         ...      ...  ...   ...  \n",
       "13919  0.000000      0.0  0.0   0.0  \n",
       "13920  0.000000      0.0  0.0   0.0  \n",
       "13921  0.000000      0.0  0.0   0.0  \n",
       "13922  0.000000      0.0  0.0   0.0  \n",
       "13923  0.000000      0.0  0.0   0.0  \n",
       "\n",
       "[13924 rows x 1971 columns]"
      ]
     },
     "execution_count": 17,
     "metadata": {},
     "output_type": "execute_result"
    }
   ],
   "source": [
    "# Bolsa de palabras pesos TF-IDF\n",
    "cv = TfidfVectorizer(min_df=75)   #eliminando palabras muy poco frecuentes en los documentos \"cut-off\"\n",
    "mdt_tfidf = cv.fit_transform(corpus['doc']) \n",
    "palabras = cv.get_feature_names()\n",
    "bow_tfidf = pd.DataFrame(mdt_tfidf.todense(), columns=palabras)\n",
    "print(bow_tfidf.shape)\n",
    "bow_tfidf"
   ]
  },
  {
   "cell_type": "code",
   "execution_count": 20,
   "metadata": {
    "ExecuteTime": {
     "end_time": "2020-12-09T03:53:13.394988Z",
     "start_time": "2020-12-09T03:52:56.424235Z"
    }
   },
   "outputs": [],
   "source": [
    "words=[]\n",
    "for i in corpus.doc:\n",
    "    words.append(nltk.word_tokenize(i))"
   ]
  },
  {
   "cell_type": "code",
   "execution_count": 21,
   "metadata": {
    "ExecuteTime": {
     "end_time": "2020-12-09T03:53:14.407839Z",
     "start_time": "2020-12-09T03:53:14.202491Z"
    }
   },
   "outputs": [],
   "source": [
    "words = list(itertools.chain(*words))"
   ]
  },
  {
   "cell_type": "code",
   "execution_count": 22,
   "metadata": {
    "ExecuteTime": {
     "end_time": "2020-12-09T03:53:17.691143Z",
     "start_time": "2020-12-09T03:53:14.617275Z"
    }
   },
   "outputs": [],
   "source": [
    "term, freq = np.unique(words, return_counts=True)\n",
    "sort = np.argsort(freq)\n",
    "term = term[sort]\n",
    "freq = freq[sort]"
   ]
  },
  {
   "cell_type": "code",
   "execution_count": 36,
   "metadata": {
    "ExecuteTime": {
     "end_time": "2020-12-09T03:59:43.583666Z",
     "start_time": "2020-12-09T03:59:43.324361Z"
    }
   },
   "outputs": [
    {
     "data": {
      "text/plain": [
       "Text(0, 0.5, 'Frecuencia')"
      ]
     },
     "execution_count": 36,
     "metadata": {},
     "output_type": "execute_result"
    },
    {
     "data": {
      "image/png": "[encoded data removed]",
      "text/plain": [
       "<Figure size 1080x360 with 1 Axes>"
      ]
     },
     "metadata": {},
     "output_type": "display_data"
    }
   ],
   "source": [
    "plt.figure(figsize=(15,5))\n",
    "fontdict={'fontsize':20}\n",
    "plt.title('Frecuencia de terminos', fontdict=fontdict)\n",
    "sns.barplot(x=term[-15:][::-1], y=freq[-15:][::-1], palette='seismic')"
   ]
  },
  {
   "cell_type": "code",
   "execution_count": null,
   "metadata": {},
   "outputs": [],
   "source": []
  }
 ],
 "metadata": {
  "colab": {
   "authorship_tag": "ABX9TyPyHM6tXZsZCsPiPoLo+BPL",
   "collapsed_sections": [],
   "include_colab_link": true,
   "mount_file_id": "1nxCvBmLIDYhYAR3YEOp7u1AM662r3kYF",
   "name": "Vectorización de texto BOW_Expedientes médicos .ipynb",
   "provenance": [],
   "toc_visible": true
  },
  "kernelspec": {
   "display_name": "Python 3",
   "language": "python",
   "name": "python3"
  },
  "language_info": {
   "codemirror_mode": {
    "name": "ipython",
    "version": 3
   },
   "file_extension": ".py",
   "mimetype": "text/x-python",
   "name": "python",
   "nbconvert_exporter": "python",
   "pygments_lexer": "ipython3",
   "version": "3.7.6"
  },
  "toc": {
   "base_numbering": 1,
   "nav_menu": {},
   "number_sections": true,
   "sideBar": true,
   "skip_h1_title": false,
   "title_cell": "Table of Contents",
   "title_sidebar": "Contents",
   "toc_cell": false,
   "toc_position": {},
   "toc_section_display": true,
   "toc_window_display": true
  }
 },
 "nbformat": 4,
 "nbformat_minor": 1
}
